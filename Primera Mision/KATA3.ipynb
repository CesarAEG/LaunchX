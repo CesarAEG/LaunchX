{
 "cells": [
  {
   "cell_type": "markdown",
   "metadata": {},
   "source": [
    "### Ejercicio 1.\n",
    "\n",
    "Para este ejercicio, escribirás una lógica condicional que imprima una advertencia si un asteroide se acerca a la Tierra demasiado rápido. La velocidad del asteroide varía dependiendo de lo cerca que esté del sol, y cualquier velocidad superior a 25 kilómetros por segundo (km/s) merece una advertencia."
   ]
  },
  {
   "cell_type": "code",
   "execution_count": null,
   "metadata": {},
   "outputs": [],
   "source": [
    "asteroide = input (\"Introduzca la velocidad del asteroide en km/s, \")\n",
    "if int(asteroide) > 25:\n",
    "    print (\"¡Advertencia, existe riesgo de colisión!\")\n",
    "else:\n",
    "    print (\"El asteroide detectado no representa riesgo alguno para la tierra.\")"
   ]
  },
  {
   "cell_type": "markdown",
   "metadata": {},
   "source": [
    "### Ejercicio 2\n",
    "\n",
    "Si un asteroide entra en la atmósfera de la Tierra a una velocidad mayor o igual a 20 km/s, a veces produce un rayo de luz que se puede ver desde la Tierra. Escribe la lógica condicional que usa declaraciones if, else, y elif para alertar a las personas de todo el mundo que deben buscar un asteroide en el cielo. ¡Hay uno que se dirige a la tierra ahora a una velocidad de 19 km/s!"
   ]
  },
  {
   "cell_type": "code",
   "execution_count": null,
   "metadata": {},
   "outputs": [],
   "source": [
    "ast = input(\"Introduzca la velocidad del asteroide en km/s, \")\n",
    "if int(ast) > 20:\n",
    "    print(\"El asteroide puede emitir un rayo de luz, observe el cielo esperando encontrarlo.\")\n",
    "elif int(ast) == 20:\n",
    "    print(\"El asteroide puede emitir un rayo de luz, observe el cielo esperando encontrarlo.\")\n",
    "else:\n",
    "    print(\"Esta vez no es posible detectar el asteroide a simple vista.\")"
   ]
  },
  {
   "cell_type": "markdown",
   "metadata": {},
   "source": [
    "### Ejercicio 3\n",
    "\n",
    "Aquí está la nueva información que necesitas saber:\n",
    "\n",
    "    Si una pieza de un asteroide que es más grande que 25 metros pero más pequeña que 1000 metros golpeara la Tierra, causaría mucho daño.\n",
    "\n",
    "    La velocidad del asteroide varía en función de lo cerca que esté del sol, y cualquier velocidad superior a 25 kilómetros por segundo (km/s) merece una advertencia.\n",
    "    \n",
    "    Si un asteroide entra en la atmósfera de la Tierra a una velocidad mayor o igual a 20 km/s, a veces produce un rayo de luz que se puede ver desde la Tierra.\n",
    "\n",
    "*Los asteroides de menos de 25 metros en su dimensión más grande probablemente se quemarán a medida que entren en la atmósfera de la Tierra.\n",
    "\n",
    "Usando toda esta información, escribe un programa que emita la advertencia o información correcta a la gente de la Tierra, según la velocidad y el tamaño de un asteroide. Utiliza instrucciones if, else, y elif, así como los operadores and y or."
   ]
  },
  {
   "cell_type": "code",
   "execution_count": null,
   "metadata": {},
   "outputs": [],
   "source": [
    "vel = input(\"Introduzca la velocidad del asteroide en km/s, \")\n",
    "tam = input(\"Introduzca el tamaño del asteroide en m, \")\n",
    "\n",
    "if int(vel) >= 20:\n",
    "    print (\"Es posible observar este asteroide a simple vista, ve afuera y observa el cielo.\")\n",
    "    if int(tam) >= 25 and int(vel) >= 25:\n",
    "        print (\"¡Advertencia, el asteroide representa un riesgo para la tierra!\")\n",
    "    else:\n",
    "        print (\"El asteroide se aproxima a una velocidad considerable, pero al ser de pequeñas dimensiones este se desintegrará entrando a la atmosfera.\")\n",
    "elif int(vel) < 20 or int(tam) < 25:\n",
    "    print (\"Este asteroide no representa riesgo alguno.\")"
   ]
  }
 ],
 "metadata": {
  "interpreter": {
   "hash": "b89b5cfaba6639976dc87ff2fec6d58faec662063367e2c229c520fe71072417"
  },
  "kernelspec": {
   "display_name": "Python 3.10.2 64-bit",
   "language": "python",
   "name": "python3"
  },
  "language_info": {
   "codemirror_mode": {
    "name": "ipython",
    "version": 3
   },
   "file_extension": ".py",
   "mimetype": "text/x-python",
   "name": "python",
   "nbconvert_exporter": "python",
   "pygments_lexer": "ipython3",
   "version": "3.10.2"
  },
  "orig_nbformat": 4
 },
 "nbformat": 4,
 "nbformat_minor": 2
}

{
 "cells": [
  {
   "cell_type": "markdown",
   "metadata": {},
   "source": [
    "## Ejercicio 1: Trabajar con argumentos en funciones\n",
    "\n",
    "Los argumentos requeridos en las funciones se utilizan cuando las funciones necesitan que esos argumentos funcionen correctamente. En este ejercicio, construirás un informe de combustible que requiere información de varias ubicaciones de combustible en todo el cohete.\n"
   ]
  },
  {
   "cell_type": "code",
   "execution_count": null,
   "metadata": {},
   "outputs": [],
   "source": [
    "def comb(**kw):\n",
    "    T1=input(\"Ingrese el porcentaje de combustible en el tanque 1: \")\n",
    "    T2=input(\"Ingrese el porcentaje de combustible en el tanque 2: \")\n",
    "    T3=input(\"Ingrese el porcentaje de combustible en el tanque 3: \")\n",
    "    TT = (int(T1)+int(T2)+int(T3))/3\n",
    "    return(f\"\"\"Reporte de combustible disponible\n",
    "    Promedio de combustible: {TT:.2f}%\n",
    "    Tanque 1: {T1}%\n",
    "    Tanque 2: {T2}%\n",
    "    Tanque 3: {T3}%\"\"\")\n",
    "\n",
    "print(comb())"
   ]
  },
  {
   "cell_type": "markdown",
   "metadata": {},
   "source": [
    "## Ejercicio 2: Trabajo con argumentos de palabra clave en funciones\n",
    "\n",
    "En este ejercicio, construirás un informe de cohete que requiere varias piezas de información, como el tiempo hasta el destino, el combustible a la izquierda y el nombre del destino. Comienza por crear una función que creará un informe preciso de la misión:\n"
   ]
  },
  {
   "cell_type": "code",
   "execution_count": null,
   "metadata": {},
   "outputs": [],
   "source": [
    "def report(destino, *minutos, **reservas):\n",
    "    reporte_mision = f\"\"\"\n",
    "    El destino de la misión es: {destino}\n",
    "    Tiempo total de viaje: {sum(minutos)} minutos, equivale a {(sum(minutos)/60):.2f} hrs\n",
    "    Combustible restante: {sum(reservas.values())}\n",
    "    \"\"\"\n",
    "    for tanque, galones in reservas.items():\n",
    "        reporte_mision += f\"Tanque {tanque} --> {galones} galones restantes\\n\"\n",
    "    return reporte_mision\n",
    "\n",
    "print(report(\"Marte\", 8, 11, 55, principal=3000, externo=200, cuarto=100, emergencia=5000))"
   ]
  }
 ],
 "metadata": {
  "interpreter": {
   "hash": "b89b5cfaba6639976dc87ff2fec6d58faec662063367e2c229c520fe71072417"
  },
  "kernelspec": {
   "display_name": "Python 3.10.2 64-bit",
   "language": "python",
   "name": "python3"
  },
  "language_info": {
   "codemirror_mode": {
    "name": "ipython",
    "version": 3
   },
   "file_extension": ".py",
   "mimetype": "text/x-python",
   "name": "python",
   "nbconvert_exporter": "python",
   "pygments_lexer": "ipython3",
   "version": "3.10.2"
  },
  "orig_nbformat": 4
 },
 "nbformat": 4,
 "nbformat_minor": 2
}

{
 "cells": [
  {
   "cell_type": "markdown",
   "metadata": {},
   "source": [
    "### Ejercicio1: Crear y usar listas de Python\n",
    "    \n",
    "    Ejercicio: Usar listas para almacenar nombres de planetas\n",
    "    Las listas permiten almacenar varios valores en una sola variable. Comenzarás un proyecto sobre información planetaria creando una lista de planetas."
   ]
  },
  {
   "cell_type": "code",
   "execution_count": null,
   "metadata": {},
   "outputs": [],
   "source": [
    "planets = [\"Mercurio\", \"Venus\", \"Tierra\", \"Marte\", \"Júpiter\", \"Saturno\", \"Urano\", \"Neptuno\", \"Plutón\"]\n",
    "\n",
    "print(f\"El último planeta del sistema solar es {planets[-1]}, en total son {len(planets)} planetas.\")"
   ]
  },
  {
   "cell_type": "markdown",
   "metadata": {},
   "source": [
    "### Ejercicio 2: Trabajando con datos de una lista\n",
    "    Usar slices para recuperar partes de una lista\n",
    "\n",
    "    Es posible que debas trabajar con diferentes secciones de una lista. En nuestro ejemplo, queremos mostrar planetas más cerca y más lejos del sol de un planeta que el usuario ingresa por teclado."
   ]
  },
  {
   "cell_type": "code",
   "execution_count": 3,
   "metadata": {},
   "outputs": [
    {
     "name": "stdout",
     "output_type": "stream",
     "text": [
      "El planeta seleccionado fue: Tierra\n",
      "Los planetas más cercanos al sol a partir de Tierra, son: ['Mercurio', 'Venus']\n",
      "Los planetas más lejanos al sol a partir de Tierra, son: ['Marte', 'Júpiter', 'Saturno', 'Urano', 'Neptuno']\n"
     ]
    }
   ],
   "source": [
    "planets = [\"Mercurio\", \"Venus\", \"Tierra\", \"Marte\", \"Júpiter\", \"Saturno\", \"Urano\", \"Neptuno\"]\n",
    "uplanet = input(\"Escriba el nombre de un planeta. Por favor, ingrese la primer letra del planeta en mayúscula.\")\n",
    "\n",
    "print(f\"El planeta seleccionado fue: {uplanet}\")\n",
    "print(f\"Los planetas más cercanos al sol a partir de {uplanet}, son: {planets[:planets.index(uplanet)]}\")\n",
    "print(f\"Los planetas más lejanos al sol a partir de {uplanet}, son: {planets[planets.index(uplanet)+1:]}\")\n"
   ]
  }
 ],
 "metadata": {
  "interpreter": {
   "hash": "b89b5cfaba6639976dc87ff2fec6d58faec662063367e2c229c520fe71072417"
  },
  "kernelspec": {
   "display_name": "Python 3.10.2 64-bit",
   "language": "python",
   "name": "python3"
  },
  "language_info": {
   "codemirror_mode": {
    "name": "ipython",
    "version": 3
   },
   "file_extension": ".py",
   "mimetype": "text/x-python",
   "name": "python",
   "nbconvert_exporter": "python",
   "pygments_lexer": "ipython3",
   "version": "3.10.2"
  },
  "orig_nbformat": 4
 },
 "nbformat": 4,
 "nbformat_minor": 2
}
